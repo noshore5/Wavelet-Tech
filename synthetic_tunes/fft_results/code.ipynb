{
 "cells": [
  {
   "cell_type": "code",
   "execution_count": null,
   "metadata": {
    "vscode": {
     "languageId": "plaintext"
    }
   },
   "outputs": [],
   "source": [
    "file = 'recordings/Saint Annes 100 bpm.wav'\n",
    "if file[-3:] == ('m4a'):\n",
    "    tune = m4a_to_reel(file)\n",
    "elif file[-3:] == ('wav'):\n",
    "    tune = wav_to_reel(file)\n",
    "norms = {}\n",
    "frame_rate = 8000\n",
    "tform = np.fft.fft(tune)\n",
    "\n",
    "# Calculate the required number of rows\n",
    "for n,i in enumerate(tunes):\n",
    "    ft = np.fft.fft(i.waveform)\n",
    "    X = tform.reshape(-1)\n",
    "    Y = ft.reshape(-1)\n",
    "\n",
    "    norm =np.linalg.norm(np.abs(X-Y))\n",
    "\n",
    "    norms[i.T] = norm\n",
    "\n",
    "keys = list(norms.keys())\n",
    "values = list(norms.values())\n",
    "# Plot a bar chart\n",
    "plt.figure(figsize=(10, 6))\n",
    "plt.bar(keys, values)\n",
    "plt.xlabel('Tune')\n",
    "plt.xticks(rotation=90,fontsize=8)\n",
    "plt.ylabel('Total Coherence')   \n",
    "plt.title(f'L2Norm FFT Synthetics VS Recording Saint Annes')\n",
    "plt.savefig(f'L2Norm.png')\n",
    "plt.show()"
   ]
  }
 ],
 "metadata": {
  "language_info": {
   "name": "python"
  }
 },
 "nbformat": 4,
 "nbformat_minor": 2
}
