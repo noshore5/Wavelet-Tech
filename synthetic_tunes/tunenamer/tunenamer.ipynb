{
 "cells": [
  {
   "cell_type": "code",
   "execution_count": 24,
   "id": "7a6a3042",
   "metadata": {},
   "outputs": [],
   "source": [
    "import pandas as pd\n",
    "towns = pd.read_csv('cities.csv').city.tolist()\n",
    "with open('counties.txt', 'r') as file:\n",
    "    counties = [line.strip() for line in file.readlines()]\n",
    "\n",
    "with open('subjects.txt', 'r') as file:\n",
    "    subjects = [line.strip() for line in file.readlines()]\n"
   ]
  },
  {
   "cell_type": "code",
   "execution_count": 25,
   "id": "6570c1ac",
   "metadata": {},
   "outputs": [
    {
     "data": {
      "text/plain": [
       "['Boys', 'Girls', 'Man', 'Woman', 'Reel', 'Jig', 'Hornpipe', 'Barndance']"
      ]
     },
     "execution_count": 25,
     "metadata": {},
     "output_type": "execute_result"
    }
   ],
   "source": [
    "subjects"
   ]
  },
  {
   "cell_type": "code",
   "execution_count": 31,
   "id": "8e42ebaf",
   "metadata": {},
   "outputs": [],
   "source": [
    "def constructor():\n",
    "    coin = rn.randint(0, 100)\n",
    "    if coin <= 50:\n",
    "        obj = rn.choice(counties)\n",
    "    else:\n",
    "        obj = rn.choice(towns)\n",
    "    subject = rn.choice(subjects)\n",
    "    name = f'The {subject} of {obj}'\n",
    "    return name"
   ]
  },
  {
   "cell_type": "code",
   "execution_count": null,
   "id": "8fa9c3a5",
   "metadata": {},
   "outputs": [
    {
     "data": {
      "text/plain": [
       "'The Hornpipe of Thurles'"
      ]
     },
     "execution_count": 85,
     "metadata": {},
     "output_type": "execute_result"
    },
    {
     "ename": "",
     "evalue": "",
     "output_type": "error",
     "traceback": [
      "\u001b[1;31mThe Kernel crashed while executing code in the current cell or a previous cell. \n",
      "\u001b[1;31mPlease review the code in the cell(s) to identify a possible cause of the failure. \n",
      "\u001b[1;31mClick <a href='https://aka.ms/vscodeJupyterKernelCrash'>here</a> for more info. \n",
      "\u001b[1;31mView Jupyter <a href='command:jupyter.viewOutput'>log</a> for further details."
     ]
    }
   ],
   "source": [
    "constructor()"
   ]
  },
  {
   "cell_type": "code",
   "execution_count": null,
   "id": "040af992",
   "metadata": {},
   "outputs": [],
   "source": []
  },
  {
   "cell_type": "code",
   "execution_count": null,
   "id": "1dbcb8f1",
   "metadata": {},
   "outputs": [],
   "source": []
  }
 ],
 "metadata": {
  "kernelspec": {
   "display_name": "py311",
   "language": "python",
   "name": "python3"
  },
  "language_info": {
   "codemirror_mode": {
    "name": "ipython",
    "version": 3
   },
   "file_extension": ".py",
   "mimetype": "text/x-python",
   "name": "python",
   "nbconvert_exporter": "python",
   "pygments_lexer": "ipython3",
   "version": "3.11.11"
  }
 },
 "nbformat": 4,
 "nbformat_minor": 5
}
