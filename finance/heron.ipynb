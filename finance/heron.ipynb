{
 "cells": [
  {
   "cell_type": "code",
   "execution_count": 5,
   "id": "4efdc419",
   "metadata": {},
   "outputs": [
    {
     "name": "stdout",
     "output_type": "stream",
     "text": [
      "Opened 'heron.webp' successfully.\n",
      "Image format: WEBP\n",
      "Image mode: RGB\n",
      "Warning: File extension is .png but actual format is WEBP. Converting...\n",
      "Converted and saved to: heron.png\n"
     ]
    }
   ],
   "source": [
    "from PIL import Image\n",
    "import os\n",
    "\n",
    "def verify_and_convert_image(image_path, output_format='PNG'):\n",
    "    try:\n",
    "        # Open the image\n",
    "        with Image.open(image_path) as img:\n",
    "            print(f\"Opened '{image_path}' successfully.\")\n",
    "            print(f\"Image format: {img.format}\")\n",
    "            print(f\"Image mode: {img.mode}\")\n",
    "\n",
    "            # Check if it's really PNG\n",
    "            if img.format != output_format:\n",
    "                print(f\"Warning: File extension is .png but actual format is {img.format}. Converting...\")\n",
    "                # Save as new PNG file\n",
    "                new_path = os.path.splitext(image_path)[0] + '.png'\n",
    "                rgb_img = img.convert('RGB') if img.mode in ['RGBA', 'P'] else img\n",
    "                rgb_img.save(new_path, format='PNG')\n",
    "                print(f\"Converted and saved to: {new_path}\")\n",
    "            else:\n",
    "                print(\"Image is a valid PNG. No conversion needed.\")\n",
    "    except Exception as e:\n",
    "        print(f\"Error processing {image_path}: {e}\")\n",
    "\n",
    "# Example usage\n",
    "verify_and_convert_image('heron.webp')\n"
   ]
  }
 ],
 "metadata": {
  "kernelspec": {
   "display_name": "py311",
   "language": "python",
   "name": "python3"
  },
  "language_info": {
   "codemirror_mode": {
    "name": "ipython",
    "version": 3
   },
   "file_extension": ".py",
   "mimetype": "text/x-python",
   "name": "python",
   "nbconvert_exporter": "python",
   "pygments_lexer": "ipython3",
   "version": "3.11.11"
  }
 },
 "nbformat": 4,
 "nbformat_minor": 5
}
