{
 "cells": [
  {
   "cell_type": "code",
   "execution_count": 1,
   "metadata": {},
   "outputs": [
    {
     "ename": "NameError",
     "evalue": "name 'signal1' is not defined",
     "output_type": "error",
     "traceback": [
      "\u001b[1;31m---------------------------------------------------------------------------\u001b[0m",
      "\u001b[1;31mNameError\u001b[0m                                 Traceback (most recent call last)",
      "Cell \u001b[1;32mIn[1], line 4\u001b[0m\n\u001b[0;32m      2\u001b[0m \u001b[38;5;66;03m# Perform DWT using Daubechies wavelet\u001b[39;00m\n\u001b[0;32m      3\u001b[0m wavelet_name \u001b[38;5;241m=\u001b[39m \u001b[38;5;124m\"\u001b[39m\u001b[38;5;124mdb4\u001b[39m\u001b[38;5;124m\"\u001b[39m\n\u001b[1;32m----> 4\u001b[0m y \u001b[38;5;241m=\u001b[39m \u001b[43msignal1\u001b[49m\n\u001b[0;32m      5\u001b[0m coeffs \u001b[38;5;241m=\u001b[39m pywt\u001b[38;5;241m.\u001b[39mwavedec(y, wavelet_name, level\u001b[38;5;241m=\u001b[39m\u001b[38;5;241m10\u001b[39m)\n\u001b[0;32m      7\u001b[0m \u001b[38;5;66;03m# Plot wavelet coefficients at each level\u001b[39;00m\n",
      "\u001b[1;31mNameError\u001b[0m: name 'signal1' is not defined"
     ]
    }
   ],
   "source": [
    "import pywt\n",
    "# Perform DWT using Daubechies wavelet\n",
    "wavelet_name = \"db4\"\n",
    "y = signal1\n",
    "coeffs = pywt.wavedec(y, wavelet_name, level=10)\n",
    "\n",
    "# Plot wavelet coefficients at each level\n",
    "plt.figure(figsize=(10, 6))\n",
    "for i, coeff in enumerate(coeffs):\n",
    "    plt.subplot(len(coeffs), 1, i + 1)\n",
    "    plt.plot(coeff, color='black')\n",
    "    plt.title(f\"Wavelet Coefficients - Level {i}\")\n",
    "plt.tight_layout()\n",
    "plt.show()"
   ]
  },
  {
   "cell_type": "code",
   "execution_count": null,
   "metadata": {},
   "outputs": [],
   "source": [
    "import numpy as np\n",
    "import pywt\n",
    "import matplotlib.pyplot as plt\n",
    "from scipy.io import wavfile\n",
    "\n",
    "# Load an Irish music audio file\n",
    "file_path = \"monroes.wav\"  # Replace with your file path\n",
    "sample_rate, audio_signal = wavfile.read(file_path)\n",
    "\n",
    "# If stereo, convert to mono\n",
    "if len(audio_signal.shape) > 1:\n",
    "    audio_signal = audio_signal.mean(axis=1)\n",
    "\n",
    "# Normalize the signal\n",
    "audio_signal = audio_signal / np.max(np.abs(audio_signal))\n",
    "\n",
    "# Parameters for DWT\n",
    "wavelet = 'db4'  # Daubechies 4 wavelet (good for music analysis)\n",
    "level = 6  # Number of decomposition levels\n",
    "\n",
    "# Perform Discrete Wavelet Transform (DWT)\n",
    "coeffs = pywt.wavedec(audio_signal, wavelet, level=level)\n",
    "\n",
    "# Plot the wavelet coefficients\n",
    "plt.figure(figsize=(12, 8))\n",
    "titles = ['Approximation'] + [f'Detail Level {i}' for i in range(level, 0, -1)]\n",
    "for i, coeff in enumerate(coeffs):\n",
    "    plt.subplot(len(coeffs), 1, i + 1)\n",
    "    plt.plot(coeff)\n",
    "    plt.title(titles[i])\n",
    "    plt.xlabel(\"Samples\")\n",
    "    plt.ylabel(\"Amplitude\")\n",
    "plt.tight_layout()\n",
    "plt.show()\n",
    "\n",
    "# Reconstruct specific frequency bands (optional)\n",
    "# Example: Reconstruct the approximation (low-frequency components)\n",
    "reconstructed_approx = pywt.waverec([coeffs[0]] + [None] * level, wavelet)\n",
    "\n",
    "# Example: Reconstruct detail level 3 (mid-frequency components)\n",
    "reconstructed_detail_3 = pywt.waverec([coeffs[3],None,None,None,None,None], wavelet)\n",
    "\n",
    "# Plot the reconstructed signals\n",
    "plt.figure(figsize=(12, 6))\n",
    "plt.subplot(2, 1, 1)\n",
    "plt.plot(reconstructed_approx)\n",
    "plt.title(\"Reconstructed Approximation (Low Frequencies)\")\n",
    "plt.xlabel(\"Samples\")\n",
    "plt.ylabel(\"Amplitude\")\n",
    "\n",
    "plt.subplot(2, 1, 2)\n",
    "plt.plot(reconstructed_detail_3)\n",
    "plt.title(\"Reconstructed Detail Level 3 (Mid Frequencies)\")\n",
    "plt.xlabel(\"Samples\")\n",
    "plt.ylabel(\"Amplitude\")\n",
    "plt.tight_layout()\n",
    "plt.show()\n",
    "\n",
    "# Feature extraction: Calculate energy of each level\n",
    "energy = [np.sum(np.square(coeff)) for coeff in coeffs]\n",
    "print(\"Energy of each level:\", energy)"
   ]
  }
 ],
 "metadata": {
  "kernelspec": {
   "display_name": ".venv",
   "language": "python",
   "name": "python3"
  },
  "language_info": {
   "codemirror_mode": {
    "name": "ipython",
    "version": 3
   },
   "file_extension": ".py",
   "mimetype": "text/x-python",
   "name": "python",
   "nbconvert_exporter": "python",
   "pygments_lexer": "ipython3",
   "version": "3.11.9"
  }
 },
 "nbformat": 4,
 "nbformat_minor": 2
}
